{
 "cells": [
  {
   "cell_type": "code",
   "execution_count": 4,
   "id": "68098d0f-a64d-45f5-9974-99b5e21bbdb4",
   "metadata": {},
   "outputs": [
    {
     "ename": "ModuleNotFoundError",
     "evalue": "No module named 'data_reader'",
     "output_type": "error",
     "traceback": [
      "\u001b[0;31m---------------------------------------------------------------------------\u001b[0m",
      "\u001b[0;31mModuleNotFoundError\u001b[0m                       Traceback (most recent call last)",
      "Cell \u001b[0;32mIn[4], line 1\u001b[0m\n\u001b[0;32m----> 1\u001b[0m \u001b[38;5;28;01mfrom\u001b[39;00m\u001b[38;5;250m \u001b[39m\u001b[38;5;21;01mtime_domain_features\u001b[39;00m\u001b[38;5;250m \u001b[39m\u001b[38;5;28;01mimport\u001b[39;00m extract_example\n\u001b[1;32m      3\u001b[0m extract_example(eeg_id\u001b[38;5;241m=\u001b[39m\u001b[38;5;124m\"\u001b[39m\u001b[38;5;124m1628180742\u001b[39m\u001b[38;5;124m\"\u001b[39m, sub_id\u001b[38;5;241m=\u001b[39m\u001b[38;5;241m3\u001b[39m)\n",
      "File \u001b[0;32m~/UB/Sem 1/EAS 508/EAS_508_Capstone/time_domain/time_domain_features.py:4\u001b[0m\n\u001b[1;32m      1\u001b[0m \u001b[38;5;28;01mimport\u001b[39;00m\u001b[38;5;250m \u001b[39m\u001b[38;5;21;01mnumpy\u001b[39;00m\u001b[38;5;250m \u001b[39m\u001b[38;5;28;01mas\u001b[39;00m\u001b[38;5;250m \u001b[39m\u001b[38;5;21;01mnp\u001b[39;00m\n\u001b[1;32m      2\u001b[0m \u001b[38;5;28;01mfrom\u001b[39;00m\u001b[38;5;250m \u001b[39m\u001b[38;5;21;01mscipy\u001b[39;00m\u001b[38;5;250m \u001b[39m\u001b[38;5;28;01mimport\u001b[39;00m stats\n\u001b[0;32m----> 4\u001b[0m \u001b[38;5;28;01mfrom\u001b[39;00m\u001b[38;5;250m \u001b[39m\u001b[38;5;21;01mdata_reader\u001b[39;00m\u001b[38;5;250m \u001b[39m\u001b[38;5;28;01mimport\u001b[39;00m get_eeg_subsample\n\u001b[1;32m      7\u001b[0m \u001b[38;5;28;01mdef\u001b[39;00m\u001b[38;5;250m \u001b[39m\u001b[38;5;21mextract_eeg_features\u001b[39m(eeg_data):\n\u001b[1;32m      8\u001b[0m \u001b[38;5;250m    \u001b[39m\u001b[38;5;124;03m\"\"\"\u001b[39;00m\n\u001b[1;32m      9\u001b[0m \u001b[38;5;124;03m    Extract time-domain features from EEG data (10 features per signal)\u001b[39;00m\n\u001b[1;32m     10\u001b[0m \n\u001b[0;32m   (...)\u001b[0m\n\u001b[1;32m     15\u001b[0m \u001b[38;5;124;03m        dict: Dictionary of extracted features\u001b[39;00m\n\u001b[1;32m     16\u001b[0m \u001b[38;5;124;03m    \"\"\"\u001b[39;00m\n",
      "\u001b[0;31mModuleNotFoundError\u001b[0m: No module named 'data_reader'"
     ]
    }
   ],
   "source": [
    "from time_domain_features import extract_example\n",
    "\n",
    "extract_example(eeg_id=\"1628180742\", sub_id=3)"
   ]
  },
  {
   "cell_type": "code",
   "execution_count": 2,
   "id": "d9724daf-dce3-4d00-93ff-c17e5eb57736",
   "metadata": {},
   "outputs": [
    {
     "ename": "NameError",
     "evalue": "name 'parent_dir' is not defined",
     "output_type": "error",
     "traceback": [
      "\u001b[0;31m---------------------------------------------------------------------------\u001b[0m",
      "\u001b[0;31mNameError\u001b[0m                                 Traceback (most recent call last)",
      "Cell \u001b[0;32mIn[2], line 1\u001b[0m\n\u001b[0;32m----> 1\u001b[0m \u001b[43mparent_dir\u001b[49m\n",
      "\u001b[0;31mNameError\u001b[0m: name 'parent_dir' is not defined"
     ]
    }
   ],
   "source": [
    "parent_dir"
   ]
  },
  {
   "cell_type": "code",
   "execution_count": 3,
   "id": "57b1ddf6-f151-4586-aee4-150988373130",
   "metadata": {},
   "outputs": [
    {
     "ename": "ModuleNotFoundError",
     "evalue": "No module named 'data_reader'",
     "output_type": "error",
     "traceback": [
      "\u001b[0;31m---------------------------------------------------------------------------\u001b[0m",
      "\u001b[0;31mModuleNotFoundError\u001b[0m                       Traceback (most recent call last)",
      "Cell \u001b[0;32mIn[3], line 1\u001b[0m\n\u001b[0;32m----> 1\u001b[0m \u001b[38;5;28;01mfrom\u001b[39;00m\u001b[38;5;250m \u001b[39m\u001b[38;5;21;01mdata_reader\u001b[39;00m\u001b[38;5;250m \u001b[39m\u001b[38;5;28;01mimport\u001b[39;00m visualize_eeg, get_eeg_subsample\n\u001b[1;32m      3\u001b[0m \u001b[38;5;66;03m# Define the data folder path\u001b[39;00m\n\u001b[1;32m      4\u001b[0m data_folder \u001b[38;5;241m=\u001b[39m \u001b[38;5;124m\"\u001b[39m\u001b[38;5;124m/Users/arun-ghontale/UB/Sem 1/EAS 508/EAS_508_Capstone/data\u001b[39m\u001b[38;5;124m\"\u001b[39m\n",
      "\u001b[0;31mModuleNotFoundError\u001b[0m: No module named 'data_reader'"
     ]
    }
   ],
   "source": [
    "from data_reader import visualize_eeg, get_eeg_subsample\n",
    "\n",
    "# Define the data folder path\n",
    "data_folder = \"/Users/arun-ghontale/UB/Sem 1/EAS 508/EAS_508_Capstone/data\"\n",
    "\n",
    "# Extract a specific subsample\n",
    "eeg_id = \"1628180742\"\n",
    "sub_id = 3\n",
    "\n",
    "# Get the subsample as numpy array\n",
    "eeg_subsample, channels, meta = get_eeg_subsample(eeg_id, sub_id, data_folder)\n",
    "\n",
    "if eeg_subsample is not None:\n",
    "    # Extract features\n",
    "    features = extract_eeg_features(eeg_subsample)\n",
    "    \n",
    "    # Display first few features\n",
    "    print(\"Example features:\")\n",
    "    for i, (key, value) in enumerate(features.items()):\n",
    "        print(f\"{key}: {value:.6f}\")"
   ]
  },
  {
   "cell_type": "code",
   "execution_count": null,
   "id": "e7eed60d-301c-4efa-b8a9-2c3f3df92876",
   "metadata": {},
   "outputs": [],
   "source": [
    "!pip list | grep pandas"
   ]
  },
  {
   "cell_type": "code",
   "execution_count": null,
   "id": "34a7f9bd-69d0-4ee1-9c17-1b82692c07c9",
   "metadata": {},
   "outputs": [],
   "source": [
    "import sys\n",
    "print(sys.executable)"
   ]
  },
  {
   "cell_type": "code",
   "execution_count": null,
   "id": "a661682c-5971-428d-be74-0f5266fcceaf",
   "metadata": {},
   "outputs": [],
   "source": [
    "!which python"
   ]
  },
  {
   "cell_type": "code",
   "execution_count": null,
   "id": "c3532f55-427b-42d9-88e9-082a50013dcc",
   "metadata": {},
   "outputs": [],
   "source": []
  }
 ],
 "metadata": {
  "kernelspec": {
   "display_name": "Python 3 (ipykernel)",
   "language": "python",
   "name": "python3"
  },
  "language_info": {
   "codemirror_mode": {
    "name": "ipython",
    "version": 3
   },
   "file_extension": ".py",
   "mimetype": "text/x-python",
   "name": "python",
   "nbconvert_exporter": "python",
   "pygments_lexer": "ipython3",
   "version": "3.10.12"
  }
 },
 "nbformat": 4,
 "nbformat_minor": 5
}
